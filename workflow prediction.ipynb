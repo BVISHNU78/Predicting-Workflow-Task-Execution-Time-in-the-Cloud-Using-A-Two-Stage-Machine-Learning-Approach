{
 "cells": [
  {
   "cell_type": "code",
   "execution_count": 475,
   "metadata": {
    "scrolled": true
   },
   "outputs": [
    {
     "data": {
      "text/html": [
       "<div>\n",
       "<style scoped>\n",
       "    .dataframe tbody tr th:only-of-type {\n",
       "        vertical-align: middle;\n",
       "    }\n",
       "\n",
       "    .dataframe tbody tr th {\n",
       "        vertical-align: top;\n",
       "    }\n",
       "\n",
       "    .dataframe thead th {\n",
       "        text-align: right;\n",
       "    }\n",
       "</style>\n",
       "<table border=\"1\" class=\"dataframe\">\n",
       "  <thead>\n",
       "    <tr style=\"text-align: right;\">\n",
       "      <th></th>\n",
       "      <th>Instance Size</th>\n",
       "      <th>vCPU</th>\n",
       "      <th>Memory (GiB)</th>\n",
       "      <th>Instance Storage (GiB)</th>\n",
       "      <th>Network Bandwidth (Gbps)</th>\n",
       "      <th>EBS Bandwidth (Mbps)</th>\n",
       "    </tr>\n",
       "  </thead>\n",
       "  <tbody>\n",
       "    <tr>\n",
       "      <th>0</th>\n",
       "      <td>c6g.medium</td>\n",
       "      <td>1</td>\n",
       "      <td>2</td>\n",
       "      <td>EBS-Only</td>\n",
       "      <td>Up to 10</td>\n",
       "      <td>48</td>\n",
       "    </tr>\n",
       "    <tr>\n",
       "      <th>1</th>\n",
       "      <td>c6g.large</td>\n",
       "      <td>2</td>\n",
       "      <td>4</td>\n",
       "      <td>EBS-Only</td>\n",
       "      <td>Up to 10</td>\n",
       "      <td>48</td>\n",
       "    </tr>\n",
       "    <tr>\n",
       "      <th>2</th>\n",
       "      <td>c6g.xlarge</td>\n",
       "      <td>4</td>\n",
       "      <td>8</td>\n",
       "      <td>EBS-Only</td>\n",
       "      <td>Up to 10</td>\n",
       "      <td>48</td>\n",
       "    </tr>\n",
       "    <tr>\n",
       "      <th>3</th>\n",
       "      <td>c6g.2xlarge</td>\n",
       "      <td>8</td>\n",
       "      <td>16</td>\n",
       "      <td>EBS-Only</td>\n",
       "      <td>Up to 10</td>\n",
       "      <td>5</td>\n",
       "    </tr>\n",
       "    <tr>\n",
       "      <th>4</th>\n",
       "      <td>c6g.4xlarge</td>\n",
       "      <td>16</td>\n",
       "      <td>32</td>\n",
       "      <td>EBS-Only</td>\n",
       "      <td>Up to 10</td>\n",
       "      <td>40</td>\n",
       "    </tr>\n",
       "    <tr>\n",
       "      <th>5</th>\n",
       "      <td>c6g.8xlarge</td>\n",
       "      <td>32</td>\n",
       "      <td>64</td>\n",
       "      <td>EBS-Only</td>\n",
       "      <td>12</td>\n",
       "      <td>9</td>\n",
       "    </tr>\n",
       "    <tr>\n",
       "      <th>6</th>\n",
       "      <td>c6g.12xlarge</td>\n",
       "      <td>48</td>\n",
       "      <td>96</td>\n",
       "      <td>EBS-Only</td>\n",
       "      <td>20</td>\n",
       "      <td>13</td>\n",
       "    </tr>\n",
       "    <tr>\n",
       "      <th>7</th>\n",
       "      <td>c6g.16xlarge</td>\n",
       "      <td>64</td>\n",
       "      <td>128</td>\n",
       "      <td>EBS-Only</td>\n",
       "      <td>25</td>\n",
       "      <td>19</td>\n",
       "    </tr>\n",
       "    <tr>\n",
       "      <th>8</th>\n",
       "      <td>c6g.metal</td>\n",
       "      <td>64</td>\n",
       "      <td>128</td>\n",
       "      <td>EBS-Only</td>\n",
       "      <td>25</td>\n",
       "      <td>19</td>\n",
       "    </tr>\n",
       "    <tr>\n",
       "      <th>9</th>\n",
       "      <td>c6gd.medium</td>\n",
       "      <td>1</td>\n",
       "      <td>2</td>\n",
       "      <td>1 x 59 NVMe SSD</td>\n",
       "      <td>Up to 10</td>\n",
       "      <td>48</td>\n",
       "    </tr>\n",
       "    <tr>\n",
       "      <th>10</th>\n",
       "      <td>c6gd.large</td>\n",
       "      <td>2</td>\n",
       "      <td>4</td>\n",
       "      <td>1 x 118 NVMe SSD</td>\n",
       "      <td>Up to 10</td>\n",
       "      <td>48</td>\n",
       "    </tr>\n",
       "    <tr>\n",
       "      <th>11</th>\n",
       "      <td>c6gd.xlarge</td>\n",
       "      <td>4</td>\n",
       "      <td>8</td>\n",
       "      <td>1 x 237 NVMe SSD</td>\n",
       "      <td>Up to 10</td>\n",
       "      <td>48</td>\n",
       "    </tr>\n",
       "    <tr>\n",
       "      <th>12</th>\n",
       "      <td>c6gd.2xlarge</td>\n",
       "      <td>8</td>\n",
       "      <td>16</td>\n",
       "      <td>1 x 474 NVMe SSD</td>\n",
       "      <td>Up to 10</td>\n",
       "      <td>5</td>\n",
       "    </tr>\n",
       "    <tr>\n",
       "      <th>13</th>\n",
       "      <td>c6gd.4xlarge</td>\n",
       "      <td>16</td>\n",
       "      <td>32</td>\n",
       "      <td>1 x 950 NVMe SSD</td>\n",
       "      <td>Up to 10</td>\n",
       "      <td>5</td>\n",
       "    </tr>\n",
       "    <tr>\n",
       "      <th>14</th>\n",
       "      <td>c6gd.8xlarge</td>\n",
       "      <td>32</td>\n",
       "      <td>64</td>\n",
       "      <td>1 x 1900 NVMe SSD</td>\n",
       "      <td>12</td>\n",
       "      <td>9</td>\n",
       "    </tr>\n",
       "    <tr>\n",
       "      <th>15</th>\n",
       "      <td>c6gd.12xlarge</td>\n",
       "      <td>48</td>\n",
       "      <td>96</td>\n",
       "      <td>2 x 1425 NVMe SSD</td>\n",
       "      <td>20</td>\n",
       "      <td>14</td>\n",
       "    </tr>\n",
       "    <tr>\n",
       "      <th>16</th>\n",
       "      <td>c6gd.16xlarge</td>\n",
       "      <td>64</td>\n",
       "      <td>128</td>\n",
       "      <td>2 x 1900 NVMe SSD</td>\n",
       "      <td>25</td>\n",
       "      <td>19</td>\n",
       "    </tr>\n",
       "    <tr>\n",
       "      <th>17</th>\n",
       "      <td>c6gd.metal</td>\n",
       "      <td>64</td>\n",
       "      <td>128</td>\n",
       "      <td>2 x 1900 NVMe SSD</td>\n",
       "      <td>25</td>\n",
       "      <td>19</td>\n",
       "    </tr>\n",
       "    <tr>\n",
       "      <th>18</th>\n",
       "      <td>c6gn.medium</td>\n",
       "      <td>1</td>\n",
       "      <td>2</td>\n",
       "      <td>EBS-Only</td>\n",
       "      <td>Up to 25</td>\n",
       "      <td>95</td>\n",
       "    </tr>\n",
       "    <tr>\n",
       "      <th>19</th>\n",
       "      <td>c6gn.large</td>\n",
       "      <td>2</td>\n",
       "      <td>4</td>\n",
       "      <td>EBS-Only</td>\n",
       "      <td>Up to 25</td>\n",
       "      <td>95</td>\n",
       "    </tr>\n",
       "    <tr>\n",
       "      <th>20</th>\n",
       "      <td>c6gn.xlarge</td>\n",
       "      <td>4</td>\n",
       "      <td>8</td>\n",
       "      <td>EBS-Only</td>\n",
       "      <td>Up to 25</td>\n",
       "      <td>95</td>\n",
       "    </tr>\n",
       "    <tr>\n",
       "      <th>21</th>\n",
       "      <td>c6gn.2xlarge</td>\n",
       "      <td>8</td>\n",
       "      <td>16</td>\n",
       "      <td>EBS-Only</td>\n",
       "      <td>Up to 25</td>\n",
       "      <td>95</td>\n",
       "    </tr>\n",
       "    <tr>\n",
       "      <th>22</th>\n",
       "      <td>c6gn.4xlarge</td>\n",
       "      <td>16</td>\n",
       "      <td>32</td>\n",
       "      <td>EBS-Only</td>\n",
       "      <td>25</td>\n",
       "      <td>95</td>\n",
       "    </tr>\n",
       "    <tr>\n",
       "      <th>23</th>\n",
       "      <td>c6gn.8xlarge</td>\n",
       "      <td>32</td>\n",
       "      <td>64</td>\n",
       "      <td>EBS-Only</td>\n",
       "      <td>50</td>\n",
       "      <td>19</td>\n",
       "    </tr>\n",
       "    <tr>\n",
       "      <th>24</th>\n",
       "      <td>c6gn.12xlarge</td>\n",
       "      <td>48</td>\n",
       "      <td>96</td>\n",
       "      <td>EBS-Only</td>\n",
       "      <td>75</td>\n",
       "      <td>285</td>\n",
       "    </tr>\n",
       "    <tr>\n",
       "      <th>25</th>\n",
       "      <td>c6gn.16xlarge</td>\n",
       "      <td>64</td>\n",
       "      <td>128</td>\n",
       "      <td>EBS-Only</td>\n",
       "      <td>100</td>\n",
       "      <td>38</td>\n",
       "    </tr>\n",
       "    <tr>\n",
       "      <th>26</th>\n",
       "      <td>c5.large</td>\n",
       "      <td>2</td>\n",
       "      <td>4</td>\n",
       "      <td>EBS-Only</td>\n",
       "      <td>Up to 10</td>\n",
       "      <td>5</td>\n",
       "    </tr>\n",
       "    <tr>\n",
       "      <th>27</th>\n",
       "      <td>c5.xlarge</td>\n",
       "      <td>4</td>\n",
       "      <td>8</td>\n",
       "      <td>EBS-Only</td>\n",
       "      <td>Up to 10</td>\n",
       "      <td>48</td>\n",
       "    </tr>\n",
       "    <tr>\n",
       "      <th>28</th>\n",
       "      <td>c5.2xlarge</td>\n",
       "      <td>8</td>\n",
       "      <td>16</td>\n",
       "      <td>EBS-Only</td>\n",
       "      <td>Up to 10</td>\n",
       "      <td>5</td>\n",
       "    </tr>\n",
       "    <tr>\n",
       "      <th>29</th>\n",
       "      <td>c5.4xlarge</td>\n",
       "      <td>16</td>\n",
       "      <td>32</td>\n",
       "      <td>EBS-Only</td>\n",
       "      <td>Up to 10</td>\n",
       "      <td>5</td>\n",
       "    </tr>\n",
       "    <tr>\n",
       "      <th>30</th>\n",
       "      <td>c5.9xlarge</td>\n",
       "      <td>36</td>\n",
       "      <td>72</td>\n",
       "      <td>EBS-Only</td>\n",
       "      <td>10</td>\n",
       "      <td>10</td>\n",
       "    </tr>\n",
       "    <tr>\n",
       "      <th>31</th>\n",
       "      <td>c5.12xlarge</td>\n",
       "      <td>48</td>\n",
       "      <td>96</td>\n",
       "      <td>EBS-Only</td>\n",
       "      <td>12</td>\n",
       "      <td>95</td>\n",
       "    </tr>\n",
       "    <tr>\n",
       "      <th>32</th>\n",
       "      <td>c5.18xlarge</td>\n",
       "      <td>72</td>\n",
       "      <td>144</td>\n",
       "      <td>EBS-Only</td>\n",
       "      <td>25</td>\n",
       "      <td>190</td>\n",
       "    </tr>\n",
       "    <tr>\n",
       "      <th>33</th>\n",
       "      <td>c5.24xlarge</td>\n",
       "      <td>96</td>\n",
       "      <td>192</td>\n",
       "      <td>EBS-Only</td>\n",
       "      <td>25</td>\n",
       "      <td>16</td>\n",
       "    </tr>\n",
       "    <tr>\n",
       "      <th>34</th>\n",
       "      <td>c5.metal</td>\n",
       "      <td>96</td>\n",
       "      <td>192</td>\n",
       "      <td>EBS-Only</td>\n",
       "      <td>25</td>\n",
       "      <td>18</td>\n",
       "    </tr>\n",
       "    <tr>\n",
       "      <th>35</th>\n",
       "      <td>c5d.large</td>\n",
       "      <td>2</td>\n",
       "      <td>4</td>\n",
       "      <td>1 x 50 NVMe SSD</td>\n",
       "      <td>Up to 10</td>\n",
       "      <td>5</td>\n",
       "    </tr>\n",
       "    <tr>\n",
       "      <th>36</th>\n",
       "      <td>c5d.xlarge</td>\n",
       "      <td>4</td>\n",
       "      <td>8</td>\n",
       "      <td>1 x 100 NVMe SSD</td>\n",
       "      <td>Up to 10</td>\n",
       "      <td>5</td>\n",
       "    </tr>\n",
       "    <tr>\n",
       "      <th>37</th>\n",
       "      <td>c5d.2xlarge</td>\n",
       "      <td>8</td>\n",
       "      <td>16</td>\n",
       "      <td>1 x 200 NVMe SSD</td>\n",
       "      <td>Up to 10</td>\n",
       "      <td>5</td>\n",
       "    </tr>\n",
       "    <tr>\n",
       "      <th>38</th>\n",
       "      <td>c5d.4xlarge</td>\n",
       "      <td>16</td>\n",
       "      <td>32</td>\n",
       "      <td>1 x 400 NVMe SSD</td>\n",
       "      <td>Up to 10</td>\n",
       "      <td>5</td>\n",
       "    </tr>\n",
       "    <tr>\n",
       "      <th>39</th>\n",
       "      <td>c5d.9xlarge</td>\n",
       "      <td>36</td>\n",
       "      <td>72</td>\n",
       "      <td>1 x 900 NVMe SSD</td>\n",
       "      <td>10</td>\n",
       "      <td>10</td>\n",
       "    </tr>\n",
       "    <tr>\n",
       "      <th>40</th>\n",
       "      <td>c5d.12xlarge</td>\n",
       "      <td>48</td>\n",
       "      <td>96</td>\n",
       "      <td>2 x 900 NVMe SSD</td>\n",
       "      <td>12</td>\n",
       "      <td>10</td>\n",
       "    </tr>\n",
       "    <tr>\n",
       "      <th>41</th>\n",
       "      <td>c5d.18xlarge</td>\n",
       "      <td>72</td>\n",
       "      <td>144</td>\n",
       "      <td>2 x 900 NVMe SSD</td>\n",
       "      <td>25</td>\n",
       "      <td>19</td>\n",
       "    </tr>\n",
       "    <tr>\n",
       "      <th>42</th>\n",
       "      <td>c5d.24xlarge</td>\n",
       "      <td>96</td>\n",
       "      <td>192</td>\n",
       "      <td>4 x 900 NVMe SSD</td>\n",
       "      <td>25</td>\n",
       "      <td>19</td>\n",
       "    </tr>\n",
       "    <tr>\n",
       "      <th>43</th>\n",
       "      <td>c5d.metal</td>\n",
       "      <td>96</td>\n",
       "      <td>192</td>\n",
       "      <td>4 x 900 NVMe SSD</td>\n",
       "      <td>25</td>\n",
       "      <td>19</td>\n",
       "    </tr>\n",
       "  </tbody>\n",
       "</table>\n",
       "</div>"
      ],
      "text/plain": [
       "    Instance Size  vCPU  Memory (GiB) Instance Storage (GiB)  \\\n",
       "0      c6g.medium     1             2               EBS-Only   \n",
       "1       c6g.large     2             4               EBS-Only   \n",
       "2      c6g.xlarge     4             8               EBS-Only   \n",
       "3     c6g.2xlarge     8            16               EBS-Only   \n",
       "4     c6g.4xlarge    16            32               EBS-Only   \n",
       "5     c6g.8xlarge    32            64               EBS-Only   \n",
       "6    c6g.12xlarge    48            96               EBS-Only   \n",
       "7    c6g.16xlarge    64           128               EBS-Only   \n",
       "8       c6g.metal    64           128               EBS-Only   \n",
       "9     c6gd.medium     1             2        1 x 59 NVMe SSD   \n",
       "10     c6gd.large     2             4       1 x 118 NVMe SSD   \n",
       "11    c6gd.xlarge     4             8       1 x 237 NVMe SSD   \n",
       "12   c6gd.2xlarge     8            16       1 x 474 NVMe SSD   \n",
       "13   c6gd.4xlarge    16            32       1 x 950 NVMe SSD   \n",
       "14   c6gd.8xlarge    32            64      1 x 1900 NVMe SSD   \n",
       "15  c6gd.12xlarge    48            96      2 x 1425 NVMe SSD   \n",
       "16  c6gd.16xlarge    64           128      2 x 1900 NVMe SSD   \n",
       "17     c6gd.metal    64           128      2 x 1900 NVMe SSD   \n",
       "18    c6gn.medium     1             2               EBS-Only   \n",
       "19     c6gn.large     2             4               EBS-Only   \n",
       "20    c6gn.xlarge     4             8               EBS-Only   \n",
       "21   c6gn.2xlarge     8            16               EBS-Only   \n",
       "22   c6gn.4xlarge    16            32               EBS-Only   \n",
       "23   c6gn.8xlarge    32            64               EBS-Only   \n",
       "24  c6gn.12xlarge    48            96               EBS-Only   \n",
       "25  c6gn.16xlarge    64           128               EBS-Only   \n",
       "26       c5.large     2             4               EBS-Only   \n",
       "27      c5.xlarge     4             8               EBS-Only   \n",
       "28     c5.2xlarge     8            16               EBS-Only   \n",
       "29     c5.4xlarge    16            32               EBS-Only   \n",
       "30     c5.9xlarge    36            72               EBS-Only   \n",
       "31    c5.12xlarge    48            96               EBS-Only   \n",
       "32    c5.18xlarge    72           144               EBS-Only   \n",
       "33    c5.24xlarge    96           192               EBS-Only   \n",
       "34       c5.metal    96           192               EBS-Only   \n",
       "35      c5d.large     2             4        1 x 50 NVMe SSD   \n",
       "36     c5d.xlarge     4             8       1 x 100 NVMe SSD   \n",
       "37    c5d.2xlarge     8            16       1 x 200 NVMe SSD   \n",
       "38    c5d.4xlarge    16            32       1 x 400 NVMe SSD   \n",
       "39    c5d.9xlarge    36            72       1 x 900 NVMe SSD   \n",
       "40   c5d.12xlarge    48            96       2 x 900 NVMe SSD   \n",
       "41   c5d.18xlarge    72           144       2 x 900 NVMe SSD   \n",
       "42   c5d.24xlarge    96           192       4 x 900 NVMe SSD   \n",
       "43      c5d.metal    96           192       4 x 900 NVMe SSD   \n",
       "\n",
       "   Network Bandwidth (Gbps)  EBS Bandwidth (Mbps)  \n",
       "0                  Up to 10                    48  \n",
       "1                  Up to 10                    48  \n",
       "2                  Up to 10                    48  \n",
       "3                  Up to 10                     5  \n",
       "4                  Up to 10                    40  \n",
       "5                        12                     9  \n",
       "6                        20                    13  \n",
       "7                        25                    19  \n",
       "8                        25                    19  \n",
       "9                  Up to 10                    48  \n",
       "10                 Up to 10                    48  \n",
       "11                 Up to 10                    48  \n",
       "12                 Up to 10                     5  \n",
       "13                 Up to 10                     5  \n",
       "14                       12                     9  \n",
       "15                       20                    14  \n",
       "16                       25                    19  \n",
       "17                       25                    19  \n",
       "18                 Up to 25                    95  \n",
       "19                 Up to 25                    95  \n",
       "20                 Up to 25                    95  \n",
       "21                 Up to 25                    95  \n",
       "22                       25                    95  \n",
       "23                       50                    19  \n",
       "24                       75                   285  \n",
       "25                      100                    38  \n",
       "26                 Up to 10                     5  \n",
       "27                 Up to 10                    48  \n",
       "28                 Up to 10                     5  \n",
       "29                 Up to 10                     5  \n",
       "30                       10                    10  \n",
       "31                       12                    95  \n",
       "32                       25                   190  \n",
       "33                       25                    16  \n",
       "34                       25                    18  \n",
       "35                 Up to 10                     5  \n",
       "36                 Up to 10                     5  \n",
       "37                 Up to 10                     5  \n",
       "38                 Up to 10                     5  \n",
       "39                       10                    10  \n",
       "40                       12                    10  \n",
       "41                       25                    19  \n",
       "42                       25                    19  \n",
       "43                       25                    19  "
      ]
     },
     "execution_count": 475,
     "metadata": {},
     "output_type": "execute_result"
    }
   ],
   "source": [
    "import pandas as pd\n",
    "import numpy as np\n",
    "import os\n",
    "import seaborn as sns\n",
    "from sklearn.preprocessing import MinMaxScaler\n",
    "from sklearn.preprocessing import LabelEncoder\n",
    "import matplotlib.pyplot as plt\n",
    "os.chdir(r\"C:\\Users\\VISHNU\\Desktop\")\n",
    "df=pd.read_csv(\"work flow task .csv\")\n",
    "df"
   ]
  },
  {
   "cell_type": "code",
   "execution_count": 476,
   "metadata": {},
   "outputs": [
    {
     "data": {
      "text/plain": [
       "Index(['Instance Size', 'vCPU', 'Memory (GiB)', 'Instance Storage (GiB)',\n",
       "       'Network Bandwidth (Gbps)', 'EBS Bandwidth (Mbps)'],\n",
       "      dtype='object')"
      ]
     },
     "execution_count": 476,
     "metadata": {},
     "output_type": "execute_result"
    }
   ],
   "source": [
    "df.columns"
   ]
  },
  {
   "cell_type": "code",
   "execution_count": 477,
   "metadata": {},
   "outputs": [],
   "source": [
    "df.drop([\"Instance Storage (GiB)\"],axis=1,inplace=True)"
   ]
  },
  {
   "cell_type": "code",
   "execution_count": 478,
   "metadata": {},
   "outputs": [
    {
     "data": {
      "text/html": [
       "<div>\n",
       "<style scoped>\n",
       "    .dataframe tbody tr th:only-of-type {\n",
       "        vertical-align: middle;\n",
       "    }\n",
       "\n",
       "    .dataframe tbody tr th {\n",
       "        vertical-align: top;\n",
       "    }\n",
       "\n",
       "    .dataframe thead th {\n",
       "        text-align: right;\n",
       "    }\n",
       "</style>\n",
       "<table border=\"1\" class=\"dataframe\">\n",
       "  <thead>\n",
       "    <tr style=\"text-align: right;\">\n",
       "      <th></th>\n",
       "      <th>Instance Size</th>\n",
       "      <th>vCPU</th>\n",
       "      <th>Memory (GiB)</th>\n",
       "      <th>Network Bandwidth (Gbps)</th>\n",
       "      <th>EBS Bandwidth (Mbps)</th>\n",
       "    </tr>\n",
       "  </thead>\n",
       "  <tbody>\n",
       "    <tr>\n",
       "      <th>0</th>\n",
       "      <td>c6g.medium</td>\n",
       "      <td>1</td>\n",
       "      <td>2</td>\n",
       "      <td>Up to 10</td>\n",
       "      <td>48</td>\n",
       "    </tr>\n",
       "    <tr>\n",
       "      <th>1</th>\n",
       "      <td>c6g.large</td>\n",
       "      <td>2</td>\n",
       "      <td>4</td>\n",
       "      <td>Up to 10</td>\n",
       "      <td>48</td>\n",
       "    </tr>\n",
       "    <tr>\n",
       "      <th>2</th>\n",
       "      <td>c6g.xlarge</td>\n",
       "      <td>4</td>\n",
       "      <td>8</td>\n",
       "      <td>Up to 10</td>\n",
       "      <td>48</td>\n",
       "    </tr>\n",
       "    <tr>\n",
       "      <th>3</th>\n",
       "      <td>c6g.2xlarge</td>\n",
       "      <td>8</td>\n",
       "      <td>16</td>\n",
       "      <td>Up to 10</td>\n",
       "      <td>5</td>\n",
       "    </tr>\n",
       "    <tr>\n",
       "      <th>4</th>\n",
       "      <td>c6g.4xlarge</td>\n",
       "      <td>16</td>\n",
       "      <td>32</td>\n",
       "      <td>Up to 10</td>\n",
       "      <td>40</td>\n",
       "    </tr>\n",
       "  </tbody>\n",
       "</table>\n",
       "</div>"
      ],
      "text/plain": [
       "  Instance Size  vCPU  Memory (GiB) Network Bandwidth (Gbps)  \\\n",
       "0    c6g.medium     1             2                 Up to 10   \n",
       "1     c6g.large     2             4                 Up to 10   \n",
       "2    c6g.xlarge     4             8                 Up to 10   \n",
       "3   c6g.2xlarge     8            16                 Up to 10   \n",
       "4   c6g.4xlarge    16            32                 Up to 10   \n",
       "\n",
       "   EBS Bandwidth (Mbps)  \n",
       "0                    48  \n",
       "1                    48  \n",
       "2                    48  \n",
       "3                     5  \n",
       "4                    40  "
      ]
     },
     "execution_count": 478,
     "metadata": {},
     "output_type": "execute_result"
    }
   ],
   "source": [
    "df.head()"
   ]
  },
  {
   "cell_type": "code",
   "execution_count": 479,
   "metadata": {},
   "outputs": [
    {
     "name": "stdout",
     "output_type": "stream",
     "text": [
      "<class 'pandas.core.frame.DataFrame'>\n",
      "RangeIndex: 44 entries, 0 to 43\n",
      "Data columns (total 5 columns):\n",
      " #   Column                    Non-Null Count  Dtype \n",
      "---  ------                    --------------  ----- \n",
      " 0   Instance Size             44 non-null     object\n",
      " 1   vCPU                      44 non-null     int64 \n",
      " 2   Memory (GiB)              44 non-null     int64 \n",
      " 3   Network Bandwidth (Gbps)  44 non-null     object\n",
      " 4   EBS Bandwidth (Mbps)      44 non-null     int64 \n",
      "dtypes: int64(3), object(2)\n",
      "memory usage: 1.8+ KB\n"
     ]
    }
   ],
   "source": [
    "df.info()"
   ]
  },
  {
   "cell_type": "code",
   "execution_count": 480,
   "metadata": {},
   "outputs": [
    {
     "data": {
      "text/plain": [
       "Instance Size               0\n",
       "vCPU                        0\n",
       "Memory (GiB)                0\n",
       "Network Bandwidth (Gbps)    0\n",
       "EBS Bandwidth (Mbps)        0\n",
       "dtype: int64"
      ]
     },
     "execution_count": 480,
     "metadata": {},
     "output_type": "execute_result"
    }
   ],
   "source": [
    "df.isnull().sum()"
   ]
  },
  {
   "cell_type": "code",
   "execution_count": 481,
   "metadata": {},
   "outputs": [
    {
     "data": {
      "image/png": "[encoded data removed]",
      "text/plain": [
       "<Figure size 576x360 with 1 Axes>"
      ]
     },
     "metadata": {
      "needs_background": "light"
     },
     "output_type": "display_data"
    }
   ],
   "source": [
    "plt.figure(figsize=(8,5))\n",
    "ax = sns.countplot(x='EBS Bandwidth (Mbps)',data=df)\n",
    "for p in ax.patches:\n",
    "    ax.annotate('{:}'.format(p.get_height()), (p.get_x()+0.35, p.get_height()+5),fontweight='bold',color='red')"
   ]
  },
  {
   "cell_type": "code",
   "execution_count": 482,
   "metadata": {},
   "outputs": [
    {
     "data": {
      "text/plain": [
       "<seaborn.axisgrid.PairGrid at 0x27b89738108>"
      ]
     },
     "execution_count": 482,
     "metadata": {},
     "output_type": "execute_result"
    },
    {
     "data": {
      "image/png": "[encoded data removed]",
      "text/plain": [
       "<Figure size 540x540 with 12 Axes>"
      ]
     },
     "metadata": {
      "needs_background": "light"
     },
     "output_type": "display_data"
    }
   ],
   "source": [
    "sns.pairplot(df)"
   ]
  },
  {
   "cell_type": "code",
   "execution_count": 483,
   "metadata": {},
   "outputs": [
    {
     "data": {
      "text/plain": [
       "<AxesSubplot:>"
      ]
     },
     "execution_count": 483,
     "metadata": {},
     "output_type": "execute_result"
    },
    {
     "data": {
      "image/png": "[encoded data removed]",
      "text/plain": [
       "<Figure size 1728x1080 with 2 Axes>"
      ]
     },
     "metadata": {
      "needs_background": "light"
     },
     "output_type": "display_data"
    }
   ],
   "source": [
    "plt.figure(figsize=(24,15))\n",
    "sns.heatmap(df.corr(),mask=np.triu(df.corr()),annot=True,fmt='.1f',cmap='viridis')"
   ]
  },
  {
   "cell_type": "code",
   "execution_count": 484,
   "metadata": {},
   "outputs": [
    {
     "data": {
      "text/plain": [
       "<AxesSubplot:>"
      ]
     },
     "execution_count": 484,
     "metadata": {},
     "output_type": "execute_result"
    },
    {
     "data": {
      "image/png": "[encoded data removed]",
      "text/plain": [
       "<Figure size 1728x1080 with 2 Axes>"
      ]
     },
     "metadata": {
      "needs_background": "light"
     },
     "output_type": "display_data"
    }
   ],
   "source": [
    "corr = df.corr()\n",
    "corr_mat = corr[((corr > 0.6) | (corr < -0.6))]\n",
    "plt.figure(figsize=(24,15))\n",
    "sns.heatmap(corr_mat,mask=np.triu(corr_mat),annot=True,fmt='.1f',cmap='viridis')"
   ]
  },
  {
   "cell_type": "code",
   "execution_count": 485,
   "metadata": {},
   "outputs": [
    {
     "data": {
      "text/plain": [
       "Text(0.5, 1.0, 'Overall Correlation of features with Memory (GiB) ')"
      ]
     },
     "execution_count": 485,
     "metadata": {},
     "output_type": "execute_result"
    },
    {
     "data": {
      "image/png": "[encoded data removed]",
      "text/plain": [
       "<Figure size 864x432 with 1 Axes>"
      ]
     },
     "metadata": {
      "needs_background": "light"
     },
     "output_type": "display_data"
    }
   ],
   "source": [
    "df.corr()[\"Memory (GiB)\"].sort_values(ascending=False).drop(\"Memory (GiB)\").plot(kind='bar',figsize=(12,6))\n",
    "plt.title(\"Overall Correlation of features with Memory (GiB) \")"
   ]
  },
  {
   "cell_type": "code",
   "execution_count": 486,
   "metadata": {},
   "outputs": [],
   "source": [
    "x=df[\"Memory (GiB)\"].values\n",
    "y=df[\"EBS Bandwidth (Mbps)\"].values"
   ]
  },
  {
   "cell_type": "code",
   "execution_count": 487,
   "metadata": {},
   "outputs": [],
   "source": [
    "from sklearn.model_selection import train_test_split"
   ]
  },
  {
   "cell_type": "code",
   "execution_count": 488,
   "metadata": {},
   "outputs": [],
   "source": [
    "x_train,x_test,y_train,y_test=train_test_split(x,y,test_size=2/5,random_state=0)"
   ]
  },
  {
   "cell_type": "code",
   "execution_count": 489,
   "metadata": {},
   "outputs": [],
   "source": [
    "x_train= x_train.reshape(-1, 1)\n",
    "y_train= y_train.reshape(-1, 1)\n",
    "x_test = x_test.reshape(-1, 1)\n",
    "y_test= y_test.reshape(-1,1)"
   ]
  },
  {
   "cell_type": "code",
   "execution_count": 490,
   "metadata": {},
   "outputs": [],
   "source": [
    "y=pd.get_dummies(\"EBS Bandwidth (Mbps)\")\n"
   ]
  },
  {
   "cell_type": "code",
   "execution_count": 491,
   "metadata": {},
   "outputs": [
    {
     "name": "stdout",
     "output_type": "stream",
     "text": [
      "<class 'pandas.core.frame.DataFrame'>\n",
      "RangeIndex: 44 entries, 0 to 43\n",
      "Data columns (total 5 columns):\n",
      " #   Column                    Non-Null Count  Dtype \n",
      "---  ------                    --------------  ----- \n",
      " 0   Instance Size             44 non-null     object\n",
      " 1   vCPU                      44 non-null     int64 \n",
      " 2   Memory (GiB)              44 non-null     int64 \n",
      " 3   Network Bandwidth (Gbps)  44 non-null     object\n",
      " 4   EBS Bandwidth (Mbps)      44 non-null     int64 \n",
      "dtypes: int64(3), object(2)\n",
      "memory usage: 1.8+ KB\n"
     ]
    }
   ],
   "source": [
    "df.info()"
   ]
  },
  {
   "cell_type": "code",
   "execution_count": 492,
   "metadata": {},
   "outputs": [
    {
     "data": {
      "text/plain": [
       "LinearRegression()"
      ]
     },
     "execution_count": 492,
     "metadata": {},
     "output_type": "execute_result"
    }
   ],
   "source": [
    "from sklearn.linear_model import LinearRegression\n",
    "regressor = LinearRegression()\n",
    "regressor.fit(x_train, y_train)\n"
   ]
  },
  {
   "cell_type": "code",
   "execution_count": 493,
   "metadata": {},
   "outputs": [
    {
     "data": {
      "text/plain": [
       "23.076923076923077"
      ]
     },
     "execution_count": 493,
     "metadata": {},
     "output_type": "execute_result"
    }
   ],
   "source": [
    "reg.score(x_train,y_train)*100"
   ]
  },
  {
   "cell_type": "code",
   "execution_count": 494,
   "metadata": {},
   "outputs": [
    {
     "name": "stderr",
     "output_type": "stream",
     "text": [
      "D:\\anaconda 2\\lib\\site-packages\\sklearn\\utils\\validation.py:72: DataConversionWarning: A column-vector y was passed when a 1d array was expected. Please change the shape of y to (n_samples, ), for example using ravel().\n",
      "  return f(**kwargs)\n"
     ]
    }
   ],
   "source": [
    "from sklearn.linear_model import SGDClassifier\n",
    "reg=SGDClassifier()\n",
    "reg.fit(x_train,y_train)\n",
    "y_predict=reg.predict(x_test)\n"
   ]
  },
  {
   "cell_type": "code",
   "execution_count": 495,
   "metadata": {},
   "outputs": [],
   "source": [
    "y_predict = regressor.predict(x_test)\n"
   ]
  },
  {
   "cell_type": "code",
   "execution_count": 496,
   "metadata": {},
   "outputs": [],
   "source": [
    "score = regressor.score(x_test,y_test)"
   ]
  },
  {
   "cell_type": "code",
   "execution_count": 497,
   "metadata": {},
   "outputs": [
    {
     "data": {
      "text/plain": [
       "<seaborn.axisgrid.FacetGrid at 0x27b89f889c8>"
      ]
     },
     "execution_count": 497,
     "metadata": {},
     "output_type": "execute_result"
    },
    {
     "data": {
      "image/png": "[encoded data removed]",
      "text/plain": [
       "<Figure size 402.375x360 with 1 Axes>"
      ]
     },
     "metadata": {
      "needs_background": "light"
     },
     "output_type": "display_data"
    }
   ],
   "source": [
    "sns.displot(x_test)"
   ]
  },
  {
   "cell_type": "code",
   "execution_count": 498,
   "metadata": {},
   "outputs": [
    {
     "data": {
      "text/plain": [
       "<seaborn.axisgrid.FacetGrid at 0x27b89b7ef08>"
      ]
     },
     "execution_count": 498,
     "metadata": {},
     "output_type": "execute_result"
    },
    {
     "data": {
      "image/png": "[encoded data removed]",
      "text/plain": [
       "<Figure size 402.375x360 with 1 Axes>"
      ]
     },
     "metadata": {
      "needs_background": "light"
     },
     "output_type": "display_data"
    }
   ],
   "source": [
    "sns.displot(y_predict)"
   ]
  },
  {
   "cell_type": "code",
   "execution_count": 499,
   "metadata": {},
   "outputs": [
    {
     "data": {
      "image/png": "[encoded data removed]",
      "text/plain": [
       "<Figure size 432x288 with 1 Axes>"
      ]
     },
     "metadata": {
      "needs_background": "light"
     },
     "output_type": "display_data"
    }
   ],
   "source": [
    "plt.scatter(x_train,y_train, color ='red', label='Train Values', alpha=0.6)\n",
    "plt.scatter(x_test,y_test,color='blue', label ='Test Values', alpha=0.6)\n",
    "plt.plot(x_train,regressor.predict(x_train),color='green')\n",
    "plt.legend()\n",
    "plt.grid()\n",
    "plt.show()\n"
   ]
  }
 ],
 "metadata": {
  "kernelspec": {
   "display_name": "Python 3 (ipykernel)",
   "language": "python",
   "name": "python3"
  },
  "language_info": {
   "codemirror_mode": {
    "name": "ipython",
    "version": 3
   },
   "file_extension": ".py",
   "mimetype": "text/x-python",
   "name": "python",
   "nbconvert_exporter": "python",
   "pygments_lexer": "ipython3",
   "version": "3.8.10"
  }
 },
 "nbformat": 4,
 "nbformat_minor": 5
}
